{
 "cells": [
  {
   "cell_type": "markdown",
   "metadata": {},
   "source": [
    "# Sequential Chains\n",
    "Used to solve sequential problems. Requires more than one user input."
   ]
  },
  {
   "cell_type": "code",
   "execution_count": null,
   "metadata": {},
   "outputs": [],
   "source": [
    "destination_prompt = PromptTemplate(\n",
    "    input_variables=['destination'],\n",
    "    template='I am planning a trip to {destination}. Can you suggest some activities I can do there?'\n",
    ")\n",
    "\n",
    "activities_prompt = PromptTemplate(\n",
    "    input_variables=['activities'],\n",
    "    template='I only have one day, so can you create an itinerary from your top three activities: {activities}?'\n",
    ")\n",
    "\n",
    "llm = ChatOpenAI(model='gpt-4o-mini', api_key=api_key)\n",
    "\n",
    "seq_chain = ({\"activities\": destination_prompt | llm | StrOutputParser()}\n",
    "             | activities_prompt | llm | StrOutputParser())\n",
    "\n",
    "print(seq_chain.invoke({\"destination\": \"Paris\"}))"
   ]
  },
  {
   "cell_type": "markdown",
   "metadata": {},
   "source": [
    "### LangChain Agents\n",
    "**Agents**: use LLMs to take actions\n",
    "**Tools**: functions called by the agent\n",
    "\n",
    "#### ReAct agents\n",
    "Reason + Act\n",
    "\n",
    "We use **LangGraph** which is a branch of LangChain centered around designing agent systems. I provides a unified, tool-agnostic syntax"
   ]
  },
  {
   "cell_type": "code",
   "execution_count": null,
   "metadata": {},
   "outputs": [],
   "source": [
    "from langgraph.prebuilt import create_react_agent\n",
    "from langchain_community.agent_toolkits.load_tools import load_tools\n",
    "\n",
    "\n",
    "llm = ChatOpenAI(model='gpt-4o-mini', api_key=api_key)\n",
    "tools = load_tools(['llm-math'], llm=llm)\n",
    "agent = create_react_agent(llm, tools=tools)\n",
    "\n",
    "messages = agent.invoke({'message': [('human', 'What is the square root of 101?'),]})\n",
    "\n",
    "print(messages['messages'][-1]['content'])"
   ]
  },
  {
   "cell_type": "markdown",
   "metadata": {},
   "source": [
    "#### Custom tools for agents"
   ]
  },
  {
   "cell_type": "code",
   "execution_count": null,
   "metadata": {},
   "outputs": [
    {
     "name": "stdout",
     "output_type": "stream",
     "text": [
      "financial_report\n",
      "Generate a financial report for a company.\n",
      "<bound method BaseModel.model_json_schema of <class 'langchain_core.tools.structured.StructuredTool'>>\n",
      "False\n",
      "{'company_name': {'title': 'Company Name', 'type': 'string'}, 'revenue': {'title': 'Revenue', 'type': 'number'}, 'expenses': {'title': 'Expenses', 'type': 'number'}}\n"
     ]
    }
   ],
   "source": [
    "from langchain_core.tools import tool\n",
    "\n",
    "@tool\n",
    "def financial_report(company_name: str, revenue: float, expenses: float) -> str:\n",
    "    \"\"\"\n",
    "    Generate a financial report for a company.\n",
    "    \"\"\"\n",
    "    profit = revenue - expenses\n",
    "    return f\"Company: {company_name}\\nRevenue: ${revenue}\\nExpenses: ${expenses}\\nProfit: ${profit}\"\n",
    "\n",
    "print(financial_report.name)\n",
    "print(financial_report.description)\n",
    "print(financial_report.model_json_schema)\n",
    "print(financial_report.return_direct)\n",
    "print(financial_report.args)\n",
    "\n",
    "agent = create_react_agent(llm, tools=[financial_report])\n",
    "\n",
    "messages = agent.invoke({'message': [('human', 'TechStack generated  made $10 million in revenue and $7 million in expenses. Can you generate a financial report for them?'),]})\n"
   ]
  },
  {
   "cell_type": "code",
   "execution_count": null,
   "metadata": {},
   "outputs": [],
   "source": []
  }
 ],
 "metadata": {
  "kernelspec": {
   "display_name": "Python 3 (ipykernel)",
   "language": "python",
   "name": "python3"
  },
  "language_info": {
   "codemirror_mode": {
    "name": "ipython",
    "version": 3
   },
   "file_extension": ".py",
   "mimetype": "text/x-python",
   "name": "python",
   "nbconvert_exporter": "python",
   "pygments_lexer": "ipython3",
   "version": "3.12.2"
  }
 },
 "nbformat": 4,
 "nbformat_minor": 2
}
