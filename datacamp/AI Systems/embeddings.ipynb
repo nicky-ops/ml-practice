{
 "cells": [
  {
   "cell_type": "code",
   "execution_count": 5,
   "metadata": {},
   "outputs": [
    {
     "ename": "OpenAIError",
     "evalue": "The api_key client option must be set either by passing api_key to the client or by setting the OPENAI_API_KEY environment variable",
     "output_type": "error",
     "traceback": [
      "\u001b[31m---------------------------------------------------------------------------\u001b[39m",
      "\u001b[31mOpenAIError\u001b[39m                               Traceback (most recent call last)",
      "\u001b[36mCell\u001b[39m\u001b[36m \u001b[39m\u001b[32mIn[5]\u001b[39m\u001b[32m, line 6\u001b[39m\n\u001b[32m      2\u001b[39m \u001b[38;5;28;01mimport\u001b[39;00m\u001b[38;5;250m \u001b[39m\u001b[34;01mos\u001b[39;00m\n\u001b[32m      4\u001b[39m api_key = os.getenv(\u001b[33m\"\u001b[39m\u001b[33mOPENAI_API_KEY\u001b[39m\u001b[33m\"\u001b[39m)\n\u001b[32m----> \u001b[39m\u001b[32m6\u001b[39m client = \u001b[43mOpenAI\u001b[49m\u001b[43m(\u001b[49m\u001b[43mapi_key\u001b[49m\u001b[43m=\u001b[49m\u001b[43mapi_key\u001b[49m\u001b[43m)\u001b[49m\n\u001b[32m      8\u001b[39m request = client.embeddings.create(\n\u001b[32m      9\u001b[39m     model=\u001b[33m\"\u001b[39m\u001b[33mtext-embedding-ada-002\u001b[39m\u001b[33m\"\u001b[39m,\n\u001b[32m     10\u001b[39m     \u001b[38;5;28minput\u001b[39m=\u001b[33m\"\u001b[39m\u001b[33mThe food was delicious and the waiter...\u001b[39m\u001b[33m\"\u001b[39m,\n\u001b[32m     11\u001b[39m )\n\u001b[32m     13\u001b[39m response = request[\u001b[33m\"\u001b[39m\u001b[33mdata\u001b[39m\u001b[33m\"\u001b[39m][\u001b[32m0\u001b[39m][\u001b[33m\"\u001b[39m\u001b[33membedding\u001b[39m\u001b[33m\"\u001b[39m]\n",
      "\u001b[36mFile \u001b[39m\u001b[32m/opt/anaconda3/envs/datacamp/lib/python3.12/site-packages/openai/_client.py:114\u001b[39m, in \u001b[36mOpenAI.__init__\u001b[39m\u001b[34m(self, api_key, organization, project, base_url, websocket_base_url, timeout, max_retries, default_headers, default_query, http_client, _strict_response_validation)\u001b[39m\n\u001b[32m    112\u001b[39m     api_key = os.environ.get(\u001b[33m\"\u001b[39m\u001b[33mOPENAI_API_KEY\u001b[39m\u001b[33m\"\u001b[39m)\n\u001b[32m    113\u001b[39m \u001b[38;5;28;01mif\u001b[39;00m api_key \u001b[38;5;129;01mis\u001b[39;00m \u001b[38;5;28;01mNone\u001b[39;00m:\n\u001b[32m--> \u001b[39m\u001b[32m114\u001b[39m     \u001b[38;5;28;01mraise\u001b[39;00m OpenAIError(\n\u001b[32m    115\u001b[39m         \u001b[33m\"\u001b[39m\u001b[33mThe api_key client option must be set either by passing api_key to the client or by setting the OPENAI_API_KEY environment variable\u001b[39m\u001b[33m\"\u001b[39m\n\u001b[32m    116\u001b[39m     )\n\u001b[32m    117\u001b[39m \u001b[38;5;28mself\u001b[39m.api_key = api_key\n\u001b[32m    119\u001b[39m \u001b[38;5;28;01mif\u001b[39;00m organization \u001b[38;5;129;01mis\u001b[39;00m \u001b[38;5;28;01mNone\u001b[39;00m:\n",
      "\u001b[31mOpenAIError\u001b[39m: The api_key client option must be set either by passing api_key to the client or by setting the OPENAI_API_KEY environment variable"
     ]
    }
   ],
   "source": [
    "from openai import OpenAI\n",
    "import os\n",
    "\n",
    "api_key = os.getenv(\"OPENAI_API_KEY\")\n",
    "\n",
    "client = OpenAI(api_key=api_key)\n",
    "\n",
    "request = client.embeddings.create(\n",
    "    model=\"text-embedding-ada-002\",\n",
    "    input=\"The food was delicious and the waiter...\",\n",
    ")\n",
    "\n",
    "response = request[\"data\"][0][\"embedding\"]\n",
    "print(response)\n",
    "\n",
    "# Embedding Multiple headlines\n",
    "articles = [\n",
    "    {\n",
    "        'headline': 'Economic growth in the US',\n",
    "        'topic': 'Economy',\n",
    "    },\n",
    "    {\n",
    "        'headline': 'New advancements in AI technology',\n",
    "        'topic': 'Technology',\n",
    "    },\n",
    "    {\n",
    "        'headline': 'The impact of climate change on agriculture',\n",
    "        'topic': 'Environment',\n",
    "    },\n",
    "    {\n",
    "        'headline': 'The future of electric vehicles',\n",
    "        'topic': 'Transportation',\n",
    "    },\n",
    "]\n",
    "\n",
    "headline_text = [article['headline'] for article in articles]\n",
    "\n",
    "response = client.embeddings.create(\n",
    "    model=\"text-embedding-ada-002\",\n",
    "    input=headline_text,\n",
    ")\n",
    "\n",
    "for i, articles in enumerate(articles):\n",
    "    articles['embedding'] = response['data'][i]['embedding']\n",
    "\n",
    "print(articles)"
   ]
  },
  {
   "cell_type": "code",
   "execution_count": null,
   "metadata": {},
   "outputs": [],
   "source": [
    "# Dimensionality reduction using t-SNE (t-distributed Stochastic Neighbor Embedding)\n",
    "from sklearn.manifold import TSNE\n",
    "\n",
    "import numpy as np\n",
    "import matplotlib.pyplot as plt\n",
    "\n",
    "\n",
    "embeddings = [article['embedding'] for article in articles]\n",
    "\n",
    "tsne = TSNE(n_components=2, perplexity=5)\n",
    "embeddings_2d = tsne.fit_transform(np.array(embeddings))\n",
    "\n",
    "plt.scatter(embeddings_2d[:, 0], embeddings_2d[:, 1], c='blue', marker='o')\n",
    "\n",
    "topics = [article['topic'] for article in articles]\n",
    "\n",
    "for i, topic in enumerate(topics):\n",
    "    plt.annotate(topic, (embeddings_2d[i, 0], embeddings_2d[i, 1]), fontsize=12)\n",
    "\n",
    "plt.title('t-SNE Visualization of Article Embeddings')\n",
    "plt.xlabel('t-SNE Component 1')\n",
    "plt.ylabel('t-SNE Component 2')\n",
    "plt.grid()\n",
    "plt.show()"
   ]
  },
  {
   "cell_type": "markdown",
   "metadata": {},
   "source": [
    "### Text similarity\n",
    "Cosine distance"
   ]
  },
  {
   "cell_type": "code",
   "execution_count": 3,
   "metadata": {},
   "outputs": [
    {
     "data": {
      "text/plain": [
       "1.0"
      ]
     },
     "execution_count": 3,
     "metadata": {},
     "output_type": "execute_result"
    }
   ],
   "source": [
    "from scipy.spatial import distance\n",
    "\n",
    "distance.cosine([0, 1], [1, 0])"
   ]
  },
  {
   "cell_type": "markdown",
   "metadata": {},
   "source": [
    "Comparing headline similarity"
   ]
  },
  {
   "cell_type": "code",
   "execution_count": null,
   "metadata": {},
   "outputs": [],
   "source": [
    "def create_embeddings(texts):\n",
    "    response = client.embeddings.create(\n",
    "        model=\"text-embedding-ada-002\",\n",
    "        input=texts,\n",
    "    )\n",
    "    response_dict = response.model_dump()\n",
    "    return [data['embedding'] for data in response_dict['data']]"
   ]
  },
  {
   "cell_type": "code",
   "execution_count": null,
   "metadata": {},
   "outputs": [],
   "source": [
    "from scipy.spatial import distance\n",
    "import numpy as np\n",
    "\n",
    "search_text = \"computer\"\n",
    "search_embedding = create_embeddings([search_text])[0]\n",
    "distances = []\n",
    "for article in articles:\n",
    "    dist = distance.cosine(search_embedding, article['embedding'])\n",
    "    distances.append(dist)\n",
    "\n",
    "\n",
    "min_dist_index = np.argmin(distances)\n",
    "print(articles[min_dist_index]['headline'])"
   ]
  },
  {
   "cell_type": "markdown",
   "metadata": {},
   "source": [
    "# Semantic Search\n",
    "Use embeddings to return most similar results to a search query"
   ]
  },
  {
   "cell_type": "code",
   "execution_count": null,
   "metadata": {},
   "outputs": [],
   "source": [
    "news_articles = [\n",
    "    {\n",
    "        'headline': 'Economic growth in the US',\n",
    "        'topic': 'Economy',\n",
    "        'keywords': ['economy', 'growth', 'US'],\n",
    "    },\n",
    "    {\n",
    "        'headline': 'New advancements in AI technology',\n",
    "        'topic': 'Technology',\n",
    "        'keywords': ['AI', 'technology', 'advancements'],\n",
    "    },\n",
    "    {\n",
    "        'headline': 'The impact of climate change on agriculture',\n",
    "        'topic': 'Environment',\n",
    "        'keywords': ['climate change', 'agriculture', 'impact'],\n",
    "    },\n",
    "    {\n",
    "        'headline': 'The future of electric vehicles',\n",
    "        'topic': 'Transportation',\n",
    "        'keywords': ['electric vehicles', 'future'],\n",
    "    }\n",
    "]\n",
    "\n",
    "def create_article_text(article):\n",
    "    return f\"\"\"Headline: {article['headline']}\n",
    "Topic: {article['topic']}\n",
    "Keywords: {', '.join(article['keywords'])}\n",
    "\"\"\"\n",
    "\n",
    "article_texts = [create_article_text(article) for article in news_articles]\n",
    "article_embeddings = create_embeddings(article_texts)\n",
    "print(article_embeddings)\n",
    "\n",
    "# Computing distances\n",
    "from scipy.spatial import distance\n",
    "\n",
    "def find_n_closest(query_vector, embeddings, n=3):\n",
    "    dist =[]\n",
    "    for index, embedding in enumerate(embeddings):\n",
    "        dist = distance.cosine(query_vector, embedding)\n",
    "        distances.append({'distance': dist, 'index': index})\n",
    "\n",
    "    distances_sorted = sorted(distances, key=lambda x: x['distance'])\n",
    "    return distances_sorted[:n]"
   ]
  },
  {
   "cell_type": "code",
   "execution_count": null,
   "metadata": {},
   "outputs": [],
   "source": [
    "query_text = 'AI'\n",
    "query_vector = create_embeddings([query_text])[0]\n",
    "\n",
    "hits = find_n_closest(query_vector, article_embeddings, n=3)\n",
    "for hit in hits:\n",
    "    article = news_articles[hit['index']]\n",
    "    print(f\"Headline: {article['headline']}\")"
   ]
  },
  {
   "cell_type": "markdown",
   "metadata": {},
   "source": [
    "# Recommendation Systems"
   ]
  },
  {
   "cell_type": "code",
   "execution_count": null,
   "metadata": {},
   "outputs": [],
   "source": [
    "current_article = {\n",
    "    'headline': 'How NVIDIA GPUs Could Decide Who Wins the AI Race',\n",
    "    'topic': 'Tech',\n",
    "    'keywords': ['ai', 'business', 'computers']\n",
    "}\n",
    "\n",
    "user_history = [\n",
    "    {\n",
    "        'headline': 'Economic growth in the US',\n",
    "        'topic': 'Economy',\n",
    "        'keywords': ['economy', 'growth', 'US'],\n",
    "    },\n",
    "    {\n",
    "        'headline': 'New advancements in AI technology',\n",
    "        'topic': 'Technology',\n",
    "        'keywords': ['AI', 'technology', 'advancements'],\n",
    "    },\n",
    "    {\n",
    "        'headline': 'The impact of climate change on agriculture',\n",
    "        'topic': 'Environment',\n",
    "        'keywords': ['climate change', 'agriculture', 'impact'],\n",
    "    },\n",
    "]\n",
    "\n",
    "history_texts = [create_article_text(article) for article in user_history]\n",
    "history_embeddings = create_embeddings(history_texts)\n",
    "mean_history_embedding = np.mean(history_embeddings, axis=0)\n",
    "\n",
    "current_article_text = create_article_text(current_article)\n",
    "current_article_embedding = create_embeddings([current_article_text])[0]\n",
    "\n",
    "\n",
    "articles_filtered = [article for article in news_articles if article not in user_history]\n",
    "article_texts = [create_article_text(article) for article in articles_filtered]\n",
    "article_embeddings = create_embeddings(article_texts)\n",
    "\n",
    "hits = find_n_closest(current_article_embedding, article_embeddings, n=3)\n",
    "\n",
    "for hit in hits:\n",
    "    article = articles_filtered[hit['index']]\n",
    "    \n"
   ]
  },
  {
   "cell_type": "markdown",
   "metadata": {},
   "source": [
    "# Classification \n",
    "Zero-shot classification:\n",
    "* Not using labelled data"
   ]
  },
  {
   "cell_type": "code",
   "execution_count": null,
   "metadata": {},
   "outputs": [],
   "source": [
    "topics = [\n",
    "    {'label': 'Tech'},\n",
    "    {'label': 'Economy'},\n",
    "    {'label': 'Environment'},\n",
    "    {'label': 'Transportation'},\n",
    "    {'label': 'Health'},\n",
    "    {'label': 'Sports'},\n",
    "    {'label': 'Entertainment'},\n",
    "    {'label': 'Politics'},\n",
    "]\n",
    "\n",
    "class_descriptions = [topic['label'] for topic in topics]\n",
    "class_embeddings = create_embeddings(class_descriptions)\n",
    "\n",
    "# Compute the cosine similarity between the current article and each class\n",
    "def find_closest(query_vector, embeddings):\n",
    "    distances = []\n",
    "    for index, embedding in enumerate(embeddings):\n",
    "        dist = distance.cosine(query_vector, embedding)\n",
    "        distances.append({'distance': dist, 'index': index})\n",
    "    return min(distances, key=lambda x: x['distance'])\n",
    "\n",
    "closest_class = find_closest(current_article_embedding, class_embeddings)\n",
    "\n",
    "label = topics[closest_class['index']]['label']\n",
    "print(f\"Predicted label: {label}\")\n"
   ]
  }
 ],
 "metadata": {
  "kernelspec": {
   "display_name": "Python 3 (ipykernel)",
   "language": "python",
   "name": "python3"
  }
 },
 "nbformat": 4,
 "nbformat_minor": 2
}
